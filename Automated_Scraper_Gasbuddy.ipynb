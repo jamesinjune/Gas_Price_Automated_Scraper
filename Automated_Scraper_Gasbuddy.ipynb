{
 "cells": [
  {
   "cell_type": "markdown",
   "id": "ae7d82cb-87ad-4e16-9eab-bc5a0acfddc2",
   "metadata": {},
   "source": [
    "# Automated Gasbuddy Scraper"
   ]
  },
  {
   "cell_type": "code",
   "execution_count": null,
   "id": "3be1893d-d721-49d9-879e-7bd6a9bcedb6",
   "metadata": {},
   "outputs": [],
   "source": [
    "from bs4 import BeautifulSoup\n",
    "import pandas as pd\n",
    "import requests\n",
    "import re\n",
    "import numpy as np\n",
    "from datetime import date\n",
    "import time"
   ]
  },
  {
   "cell_type": "markdown",
   "id": "d5296467",
   "metadata": {},
   "source": [
    "### Scraping Function:"
   ]
  },
  {
   "cell_type": "code",
   "execution_count": 1,
   "id": "12a16bf8-38fa-485c-8955-cad528ab8b2e",
   "metadata": {},
   "outputs": [],
   "source": [
    "def price_check(postal_code, fuel_type):\n",
    "    url = ('https://www.gasbuddy.com/home?search=' +\n",
    "            postal_code +\n",
    "            '&fuel=' +\n",
    "            fuel_type +\n",
    "            '&method=all&maxAge=0')\n",
    "\n",
    "    # REPLACE 'YOUR_USER_AGENT_HEADER' with your own\n",
    "    headers = 'YOUR_USER_AGENT_HEADER'\n",
    "    page = requests.get(url, headers = headers)\n",
    "    soup = BeautifulSoup(page.content, 'html.parser')\n",
    "    soup_pretty = BeautifulSoup(soup.prettify(), 'html.parser')\n",
    "\n",
    "    def postal_to_country(postal_code):\n",
    "        if re.match('^\\d{5}(?:[-\\s]?\\d{4})?$', postal_code):\n",
    "            return 'US'\n",
    "        else:\n",
    "            return 'CA'\n",
    "\n",
    "    country = postal_to_country(postal_code)\n",
    "\n",
    "    brands = soup_pretty.find_all('h3', class_ = 'header__header3___1b1oq header__header___1zII0 header__midnight___1tdCQ header__snug___lRSNK StationDisplay-module__stationNameHeader___1A2q8')    \n",
    "    brand_names = [brand.text.strip() for brand in brands]\n",
    "\n",
    "    prices = soup_pretty.find_all('span', class_ = 'text__xl___2MXGo text__left___1iOw3 StationDisplayPrice-module__price___3rARL')  \n",
    "    gas_prices = [price.text.strip().replace('¢','').replace('$','').replace('- - -', 'NaN') for price in prices]\n",
    "\n",
    "    addresses = soup_pretty.find_all('div', class_ = 'StationDisplay-module__address___2_c7v')\n",
    "    station_addresses = [', '.join(re.split(r'\\s{2,}', address.text.strip().replace('\\n',''))) for address in addresses]\n",
    "\n",
    "    date_of = date.today()\n",
    "\n",
    "    df = pd.DataFrame({'Brand': brand_names, \n",
    "                       'Price': gas_prices, \n",
    "                       'Address': station_addresses,\n",
    "                       'Date': date_of,\n",
    "                       'Country': country\n",
    "                      })\n",
    "    \n",
    "    path = (r'Automated Gas Scraper\\gas_data_' +\n",
    "            postal_code +\n",
    "            '_fueltype' +\n",
    "            fuel_type +\n",
    "            '.csv')\n",
    "    with open(path, 'a') as f:\n",
    "        df.to_csv(f, encoding = 'utf-8', mode = 'a', index = False, header = f.tell()==0, lineterminator='\\n')"
   ]
  },
  {
   "cell_type": "markdown",
   "id": "a1a0afea",
   "metadata": {},
   "source": [
    "### Automate Scraper:"
   ]
  },
  {
   "cell_type": "code",
   "execution_count": null,
   "id": "2f4a3d61-e057-4c77-84f3-e868d1260955",
   "metadata": {},
   "outputs": [],
   "source": [
    "# postal accepts any standard US or CA postal code format\n",
    "# fuel takes as strings, digits 1-4, correspoding to: 1) Regular, 2) Midgrade, 3) Premium, 4) Diesel\n",
    "postal = 'YOUR_POSTAL_CODE_HERE'\n",
    "fuel = 'YOUR_FUEL_TYPE_HERE'\n",
    "path = (r'Automated Gas Scraper\\gas_data_' + \n",
    "        postal + \n",
    "        '_fueltype' + \n",
    "        fuel + \n",
    "        '.csv')\n",
    "\n",
    "while(True):\n",
    "    price_check(postal, fuel)\n",
    "    time.sleep(86400)"
   ]
  },
  {
   "cell_type": "code",
   "execution_count": null,
   "id": "83531e60-4aa9-4826-8f19-9d0728d20ea5",
   "metadata": {},
   "outputs": [],
   "source": []
  }
 ],
 "metadata": {
  "kernelspec": {
   "display_name": "prjenv",
   "language": "python",
   "name": "prjenv"
  },
  "language_info": {
   "codemirror_mode": {
    "name": "ipython",
    "version": 3
   },
   "file_extension": ".py",
   "mimetype": "text/x-python",
   "name": "python",
   "nbconvert_exporter": "python",
   "pygments_lexer": "ipython3",
   "version": "3.11.4"
  }
 },
 "nbformat": 4,
 "nbformat_minor": 5
}
